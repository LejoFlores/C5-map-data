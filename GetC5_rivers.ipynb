{
 "cells": [
  {
   "cell_type": "markdown",
   "id": "0f4dbad8-734e-4b88-b2a5-daadb9eb841d",
   "metadata": {},
   "source": [
    "# Google Earth Engine API Example\n",
    "\n",
    "### December 29, 2022\n",
    "\n",
    "This notebook provides a brief introduction to how to use the Google Earth Engine API to select a few [HUC-4](https://nas.er.usgs.gov/hucs.aspx) level basins (subregions in USGS HUC terminology), combine those basins that are in the same region, use those features to filter hydrography features and clip digital elevation data, and export that data to a Google Drive folder. You would do this, for instance, when you want to use the output data to make a nice map for a report, proposal, or other document. \n",
    "\n",
    "This notebook depends on the `ee` and `geemap` libraries, both of which I installed using the `conda install -c conda-forge`. \n",
    "\n",
    "__Side note for Mac M1 users:__ I am doing this on a fancy, new 2022 MacBook Pro with the M1 chip. `geemap` *per se* is architecture agnostic, however, some of its dependencies __are not__. Hence, you can install `geemap` that works with the M1 chip architecture, but because not all of the dependencies have recent versions that are optimized for M1 you will likely get an ancient version of `geemap` (like v0.6.x). This will throw some errors in the Earth Engine API that are not easily fixable (ask me how I know). To get around this, I've used Apple's Rosetta emulator to create an `x86_64` Miniconda instance which will be useful as long as there is a version lag in the availability of packages for the `arm64` architecture. This worked like a charm and if you need to do it, I'd highly suggest following the workflow from [this Medium article on the Towards Data Science channel](https://towardsdatascience.com/how-to-install-miniconda-x86-64-apple-m1-side-by-side-on-mac-book-m1-a476936bfaf0).\n",
    "\n",
    "## 1. Import Libraries and Setup"
   ]
  },
  {
   "cell_type": "code",
   "execution_count": 1,
   "id": "ce479df6-5856-4c7f-8271-d486136fc67a",
   "metadata": {},
   "outputs": [],
   "source": [
    "import subprocess\n",
    "import ee\n",
    "import geemap as emap\n",
    "import numpy as np\n",
    "import matplotlib.pyplot as plt\n",
    "\n",
    "# HUC IDs\n",
    "CU_hucs = ['1704','1705','1706'] # Snake River\n",
    "CO_hucs = ['1404'] # Green River tributary of the Colorado\n",
    "MO_hucs = ['1002','1007','1008'] # Yellowstone and Upper Missouri Rivers\n",
    "\n",
    "# My Google Drive Folder to save the output data too\n",
    "GDriveSaveFolder = '_C5_Proposal_GEE_Data'\n"
   ]
  },
  {
   "cell_type": "markdown",
   "id": "d36ea3c6-d08f-4160-87d9-1b3a3638b0c3",
   "metadata": {},
   "source": [
    "## 2. Authenticate with the Google Earth Engine API"
   ]
  },
  {
   "cell_type": "code",
   "execution_count": 2,
   "id": "12df0441-62fb-484c-88f8-8f0c03afbff0",
   "metadata": {},
   "outputs": [
    {
     "data": {
      "text/html": [
       "<p>To authorize access needed by Earth Engine, open the following\n",
       "        URL in a web browser and follow the instructions:</p>\n",
       "        <p><a href=https://code.earthengine.google.com/client-auth?scopes=https%3A//www.googleapis.com/auth/earthengine%20https%3A//www.googleapis.com/auth/devstorage.full_control&request_id=Fc_ZwXxTrk3H_GwMf37z6WCRIRC8dGKTy2CiO8MXJr0&tc=S_E5SdVdhxVnxu5Eh2JE81C7XXoXmt-DZ4BWHp5QXfs&cc=fG9OLnBJsY7Qv9mOXkokzlxtpGtdTxJC_PjTP3QDfdE>https://code.earthengine.google.com/client-auth?scopes=https%3A//www.googleapis.com/auth/earthengine%20https%3A//www.googleapis.com/auth/devstorage.full_control&request_id=Fc_ZwXxTrk3H_GwMf37z6WCRIRC8dGKTy2CiO8MXJr0&tc=S_E5SdVdhxVnxu5Eh2JE81C7XXoXmt-DZ4BWHp5QXfs&cc=fG9OLnBJsY7Qv9mOXkokzlxtpGtdTxJC_PjTP3QDfdE</a></p>\n",
       "        <p>The authorization workflow will generate a code, which you should paste in the box below.</p>\n",
       "        "
      ],
      "text/plain": [
       "<IPython.core.display.HTML object>"
      ]
     },
     "metadata": {},
     "output_type": "display_data"
    },
    {
     "name": "stdin",
     "output_type": "stream",
     "text": [
      "Enter verification code:  4/1AWgavdfxWE2o46oxogWzMzhdrGp6Hzq4mXjzNGfdjdK7Pi0KtQ7Ek8B-g2I\n"
     ]
    },
    {
     "name": "stdout",
     "output_type": "stream",
     "text": [
      "\n",
      "Successfully saved authorization token.\n"
     ]
    }
   ],
   "source": [
    "ee.Authenticate()\n",
    "ee.Initialize()"
   ]
  },
  {
   "cell_type": "markdown",
   "id": "1d8be8eb-a377-46c9-b9db-c4973df3b660",
   "metadata": {},
   "source": [
    "## 3. Get Feature Collections from Google Earth Engine "
   ]
  },
  {
   "cell_type": "code",
   "execution_count": 3,
   "id": "426f5f10-6c03-43ab-874a-e54ed686d2df",
   "metadata": {},
   "outputs": [
    {
     "data": {
      "application/vnd.jupyter.widget-view+json": {
       "model_id": "d6426321d666444a947ca39750e7467c",
       "version_major": 2,
       "version_minor": 0
      },
      "text/plain": [
       "Map(center=[45.2607563762851, -111.31692448971373], controls=(WidgetControl(options=['position', 'transparent_…"
      ]
     },
     "metadata": {},
     "output_type": "display_data"
    }
   ],
   "source": [
    "# 1. Basin boundary dataset:\n",
    "# USGS HUC-04 subregion collection\n",
    "huc04 = ee.FeatureCollection('USGS/WBD/2017/HUC04')\n",
    "\n",
    "# Filter huc04 to get the hucs we need for each subregion\n",
    "CU_river_huc04 = huc04.filter(ee.Filter.inList('huc4', ee.List(CU_hucs))).union()\n",
    "CO_river_huc04 = huc04.filter(ee.Filter.inList('huc4', ee.List(CO_hucs))).union()\n",
    "MO_river_huc04 = huc04.filter(ee.Filter.inList('huc4', ee.List(MO_hucs))).union()\n",
    "\n",
    "# 2. Basin hydrography dataset:\n",
    "# WWF HydroSHEDS dataset of free flowing rivers\n",
    "streams = ee.FeatureCollection('WWF/HydroSHEDS/v1/FreeFlowingRivers')\n",
    "\n",
    "# Set up visualization parameters for the HydroSHEDS data\n",
    "visParams = {\n",
    "    'lineWidth': 2,\n",
    "    'color': {\n",
    "        'property': 'RIV_ORD',\n",
    "        'mode': 'linear',\n",
    "        'palette': ['08519c', '3182bd', '6baed6', 'bdd7e7', 'eff3ff'],\n",
    "        'min': 1,\n",
    "        'max': 10\n",
    "    }\n",
    "}\n",
    "\n",
    "# Get the HydroSHEDS hydrography for each subregion only within the selected boundaries\n",
    "CU_river_streams = streams.filterBounds(CU_river_huc04)\n",
    "CO_river_streams = streams.filterBounds(CO_river_huc04)\n",
    "MO_river_streams = streams.filterBounds(MO_river_huc04)\n",
    "\n",
    "## 3. Make an interactive map to ensure that we're getting what we want\n",
    "Map = emap.Map(center=(45.2607563762851, -111.31692448971373),zoom=6) # Centered at Big Ski ski area! \n",
    "\n",
    "# Add the subregion boundaries as a transparent, black outline\n",
    "Map.addLayer(ee.Image().paint(CU_river_huc04, 0, 2), {}, 'Columbia Headwaters')\n",
    "Map.addLayer(ee.Image().paint(CO_river_huc04, 0, 2), {}, 'Colorado Headwaters')\n",
    "Map.addLayer(ee.Image().paint(MO_river_huc04, 0, 2), {}, 'Missouri Headwaters')\n",
    "\n",
    "# Add the hydrography data\n",
    "Map.addLayer(ee.Image().paint(CU_river_streams), visParams, 'Columbia Headwaters Rivers')\n",
    "Map.addLayer(ee.Image().paint(CO_river_streams), visParams, 'Colorado Headwaters Rivers')\n",
    "Map.addLayer(ee.Image().paint(MO_river_streams), visParams, 'Missouri Headwaters Rivers')\n",
    "\n",
    "# Show the map\n",
    "Map.addLayerControl()\n",
    "Map"
   ]
  },
  {
   "cell_type": "markdown",
   "id": "ef4a09ad-1245-4c8f-b814-36d9a10a3daf",
   "metadata": {},
   "source": [
    "## 4. Export the Above Data as KML Files"
   ]
  },
  {
   "cell_type": "code",
   "execution_count": 4,
   "id": "d0afa9c8-5a80-45f7-933f-4482d6f7727b",
   "metadata": {},
   "outputs": [
    {
     "data": {
      "text/plain": [
       "{'state': 'READY',\n",
       " 'description': 'missouri_headwaters_rivers',\n",
       " 'creation_timestamp_ms': 1672372828985,\n",
       " 'update_timestamp_ms': 1672372828985,\n",
       " 'start_timestamp_ms': 0,\n",
       " 'task_type': 'EXPORT_FEATURES',\n",
       " 'id': '47GWIXOHRDIZ2NMLV3JNGVUD',\n",
       " 'name': 'projects/earthengine-legacy/operations/47GWIXOHRDIZ2NMLV3JNGVUD'}"
      ]
     },
     "execution_count": 4,
     "metadata": {},
     "output_type": "execute_result"
    }
   ],
   "source": [
    "task = ee.batch.Export.table.toDrive(**{\n",
    "    'collection': CU_river_huc04,\n",
    "    'description': 'columbia_headwaters',\n",
    "    'driveFolder': GDriveSaveFolder, \n",
    "    'fileFormat': 'KML',\n",
    "})\n",
    "task.start()\n",
    "task.status()\n",
    "\n",
    "task = ee.batch.Export.table.toDrive(**{\n",
    "    'collection': CO_river_huc04,\n",
    "    'description': 'colorado_headwaters',\n",
    "    'driveFolder': GDriveSaveFolder, \n",
    "    'fileFormat': 'KML',\n",
    "})\n",
    "task.start()\n",
    "task.status()\n",
    "\n",
    "task = ee.batch.Export.table.toDrive(**{\n",
    "    'collection': MO_river_huc04,\n",
    "    'description': 'missouri_headwaters',\n",
    "    'driveFolder': GDriveSaveFolder, \n",
    "    'fileFormat': 'KML',\n",
    "})\n",
    "task.start()\n",
    "task.status()\n",
    "\n",
    "task = ee.batch.Export.table.toDrive(**{\n",
    "    'collection': CU_river_streams,\n",
    "    'description': 'columbia_headwaters_rivers',\n",
    "    'driveFolder': GDriveSaveFolder, \n",
    "    'fileFormat': 'KML',\n",
    "})\n",
    "task.start()\n",
    "task.status()\n",
    "\n",
    "task = ee.batch.Export.table.toDrive(**{\n",
    "    'collection': CO_river_streams,\n",
    "    'description': 'colorado_headwaters_rivers',\n",
    "    'driveFolder': GDriveSaveFolder, \n",
    "    'fileFormat': 'KML',\n",
    "})\n",
    "task.start()\n",
    "task.status()\n",
    "\n",
    "task = ee.batch.Export.table.toDrive(**{\n",
    "    'collection': MO_river_streams,\n",
    "    'description': 'missouri_headwaters_rivers',\n",
    "    'driveFolder': GDriveSaveFolder, \n",
    "    'fileFormat': 'KML',\n",
    "})\n",
    "task.start()\n",
    "task.status()\n",
    "\n"
   ]
  },
  {
   "cell_type": "code",
   "execution_count": 6,
   "id": "e6c93df6-82bf-413b-9c18-fc50d5d645fb",
   "metadata": {},
   "outputs": [
    {
     "data": {
      "text/plain": [
       "[{'state': 'COMPLETED',\n",
       "  'description': 'missouri_headwaters_rivers',\n",
       "  'creation_timestamp_ms': 1672372828985,\n",
       "  'update_timestamp_ms': 1672372853286,\n",
       "  'start_timestamp_ms': 1672372833540,\n",
       "  'task_type': 'EXPORT_FEATURES',\n",
       "  'destination_uris': ['https://drive.google.com/#folders/1frkhddHlfLsx2IvTW0QQTTmD8fJ-7U6S'],\n",
       "  'attempt': 1,\n",
       "  'batch_eecu_usage_seconds': 26.563098907470703,\n",
       "  'id': '47GWIXOHRDIZ2NMLV3JNGVUD',\n",
       "  'name': 'projects/earthengine-legacy/operations/47GWIXOHRDIZ2NMLV3JNGVUD'}]"
      ]
     },
     "execution_count": 6,
     "metadata": {},
     "output_type": "execute_result"
    }
   ],
   "source": [
    "ee.data.getTaskStatus('47GWIXOHRDIZ2NMLV3JNGVUD')"
   ]
  },
  {
   "cell_type": "markdown",
   "id": "6aa83cbf-d895-4142-b5ed-5c68ea360ded",
   "metadata": {},
   "source": [
    "## 5. Get USGS National Elevation Dataset DEMs for Subregions"
   ]
  },
  {
   "cell_type": "code",
   "execution_count": 7,
   "id": "7ff0e158-6920-42be-b2e7-c29b1b3f439e",
   "metadata": {},
   "outputs": [],
   "source": [
    "# Get elevation field from USGS NED data and clip using our subregions created above\n",
    "CU_huc04_ned = ee.Image('USGS/NED').select('elevation').clip(CU_river_huc04)\n",
    "CO_huc04_ned = ee.Image('USGS/NED').select('elevation').clip(CO_river_huc04)\n",
    "MO_huc04_ned = ee.Image('USGS/NED').select('elevation').clip(MO_river_huc04)\n"
   ]
  },
  {
   "cell_type": "markdown",
   "id": "135526db-3c1f-4e77-bfbf-1b66d2491091",
   "metadata": {},
   "source": [
    "## 6. Export Elevation Data\n",
    "\n",
    "__Note__: This creates a lot of data (as GeoTIFFs) in your Google Drive folder. Only run these when you want to export the data. "
   ]
  },
  {
   "cell_type": "code",
   "execution_count": 8,
   "id": "51d1ee83-19ad-4a22-92ba-1010ef182916",
   "metadata": {},
   "outputs": [
    {
     "data": {
      "text/plain": [
       "{'state': 'READY',\n",
       " 'description': 'MO_huc04_ned',\n",
       " 'creation_timestamp_ms': 1672373147593,\n",
       " 'update_timestamp_ms': 1672373147593,\n",
       " 'start_timestamp_ms': 0,\n",
       " 'task_type': 'EXPORT_IMAGE',\n",
       " 'id': 'WIAQZJCDXK43NSNVIGXGT6KN',\n",
       " 'name': 'projects/earthengine-legacy/operations/WIAQZJCDXK43NSNVIGXGT6KN'}"
      ]
     },
     "execution_count": 8,
     "metadata": {},
     "output_type": "execute_result"
    }
   ],
   "source": [
    "downConfig = {'scale': 10, 'maxPixels': 1.0E13, 'driveFolder': GDriveSaveFolder, 'crs':'EPSG:4326'}  # scale means resolution.\n",
    "\n",
    "task_up_cda = ee.batch.Export.image(CU_huc04_ned.clip(CU_river_huc04.geometry()), 'CU_huc04_ned', downConfig)\n",
    "task_up_cda.start()\n",
    "task_up_cda.status()\n",
    "\n",
    "task_up_cda = ee.batch.Export.image(CO_huc04_ned.clip(CO_river_huc04.geometry()), 'CO_huc04_ned', downConfig)\n",
    "task_up_cda.start()\n",
    "task_up_cda.status()\n",
    "\n",
    "task_up_cda = ee.batch.Export.image(MO_huc04_ned.clip(MO_river_huc04.geometry()), 'MO_huc04_ned', downConfig)\n",
    "task_up_cda.start()\n",
    "task_up_cda.status()\n"
   ]
  },
  {
   "cell_type": "code",
   "execution_count": 11,
   "id": "ad8463cb-759b-4daa-8640-fb96e067d223",
   "metadata": {},
   "outputs": [
    {
     "data": {
      "text/plain": [
       "[{'state': 'COMPLETED',\n",
       "  'description': 'MO_huc04_ned',\n",
       "  'creation_timestamp_ms': 1672373147593,\n",
       "  'update_timestamp_ms': 1672378857057,\n",
       "  'start_timestamp_ms': 1672373175985,\n",
       "  'task_type': 'EXPORT_IMAGE',\n",
       "  'destination_uris': ['https://drive.google.com/#folders/1frkhddHlfLsx2IvTW0QQTTmD8fJ-7U6S'],\n",
       "  'attempt': 1,\n",
       "  'batch_eecu_usage_seconds': 406316.28125,\n",
       "  'id': 'WIAQZJCDXK43NSNVIGXGT6KN',\n",
       "  'name': 'projects/earthengine-legacy/operations/WIAQZJCDXK43NSNVIGXGT6KN'}]"
      ]
     },
     "execution_count": 11,
     "metadata": {},
     "output_type": "execute_result"
    }
   ],
   "source": [
    "# Check Task Status\n",
    "ee.data.getTaskStatus('WIAQZJCDXK43NSNVIGXGT6KN')"
   ]
  }
 ],
 "metadata": {
  "kernelspec": {
   "display_name": "Python 3 (ipykernel)",
   "language": "python",
   "name": "python3"
  },
  "language_info": {
   "codemirror_mode": {
    "name": "ipython",
    "version": 3
   },
   "file_extension": ".py",
   "mimetype": "text/x-python",
   "name": "python",
   "nbconvert_exporter": "python",
   "pygments_lexer": "ipython3",
   "version": "3.11.0"
  }
 },
 "nbformat": 4,
 "nbformat_minor": 5
}
